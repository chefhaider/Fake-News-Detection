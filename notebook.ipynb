{
  "nbformat": 4,
  "nbformat_minor": 0,
  "metadata": {
    "kernelspec": {
      "display_name": "Python 3",
      "language": "python",
      "name": "python3"
    },
    "language_info": {
      "codemirror_mode": {
        "name": "ipython",
        "version": 3
      },
      "file_extension": ".py",
      "mimetype": "text/x-python",
      "name": "python",
      "nbconvert_exporter": "python",
      "pygments_lexer": "ipython3",
      "version": "3.7.6"
    },
    "colab": {
      "name": "Copy of notebook.ipynb",
      "provenance": [],
      "include_colab_link": true
    }
  },
  "cells": [
    {
      "cell_type": "markdown",
      "metadata": {
        "id": "view-in-github",
        "colab_type": "text"
      },
      "source": [
        "<a href=\"https://colab.research.google.com/github/chefhaider/Fake-News-Detection/blob/main/notebook.ipynb\" target=\"_parent\"><img src=\"https://colab.research.google.com/assets/colab-badge.svg\" alt=\"Open In Colab\"/></a>"
      ]
    },
    {
      "cell_type": "code",
      "metadata": {
        "id": "GoyZamMDeB5F"
      },
      "source": [
        "import re\n",
        "import string\n",
        "import nltk\n",
        "from nltk.corpus import stopwords"
      ],
      "execution_count": 61,
      "outputs": []
    },
    {
      "cell_type": "code",
      "metadata": {
        "id": "xRJ8fTIId-Pc"
      },
      "source": [
        "import pandas as pd\n",
        "import requests\n",
        "\n",
        "import numpy as np\n",
        "import matplotlib.pyplot as plt\n",
        "import seaborn as sns"
      ],
      "execution_count": 62,
      "outputs": []
    },
    {
      "cell_type": "code",
      "metadata": {
        "id": "guHMwqoybRhp"
      },
      "source": [
        "df = pd.read_csv('https://raw.githubusercontent.com/chefhaider/Fake-News-Detection-Kaggle/main/train.csv')"
      ],
      "execution_count": 63,
      "outputs": []
    },
    {
      "cell_type": "code",
      "metadata": {
        "colab": {
          "base_uri": "https://localhost:8080/",
          "height": 204
        },
        "id": "080gZcIUdwr3",
        "outputId": "9f80dce4-7d22-4c06-df28-787dd18d1518"
      },
      "source": [
        "df.head()"
      ],
      "execution_count": 64,
      "outputs": [
        {
          "output_type": "execute_result",
          "data": {
            "text/html": [
              "<div>\n",
              "<style scoped>\n",
              "    .dataframe tbody tr th:only-of-type {\n",
              "        vertical-align: middle;\n",
              "    }\n",
              "\n",
              "    .dataframe tbody tr th {\n",
              "        vertical-align: top;\n",
              "    }\n",
              "\n",
              "    .dataframe thead th {\n",
              "        text-align: right;\n",
              "    }\n",
              "</style>\n",
              "<table border=\"1\" class=\"dataframe\">\n",
              "  <thead>\n",
              "    <tr style=\"text-align: right;\">\n",
              "      <th></th>\n",
              "      <th>id</th>\n",
              "      <th>keyword</th>\n",
              "      <th>location</th>\n",
              "      <th>text</th>\n",
              "      <th>target</th>\n",
              "    </tr>\n",
              "  </thead>\n",
              "  <tbody>\n",
              "    <tr>\n",
              "      <th>0</th>\n",
              "      <td>1</td>\n",
              "      <td>NaN</td>\n",
              "      <td>NaN</td>\n",
              "      <td>Our Deeds are the Reason of this #earthquake M...</td>\n",
              "      <td>1</td>\n",
              "    </tr>\n",
              "    <tr>\n",
              "      <th>1</th>\n",
              "      <td>4</td>\n",
              "      <td>NaN</td>\n",
              "      <td>NaN</td>\n",
              "      <td>Forest fire near La Ronge Sask. Canada</td>\n",
              "      <td>1</td>\n",
              "    </tr>\n",
              "    <tr>\n",
              "      <th>2</th>\n",
              "      <td>5</td>\n",
              "      <td>NaN</td>\n",
              "      <td>NaN</td>\n",
              "      <td>All residents asked to 'shelter in place' are ...</td>\n",
              "      <td>1</td>\n",
              "    </tr>\n",
              "    <tr>\n",
              "      <th>3</th>\n",
              "      <td>6</td>\n",
              "      <td>NaN</td>\n",
              "      <td>NaN</td>\n",
              "      <td>13,000 people receive #wildfires evacuation or...</td>\n",
              "      <td>1</td>\n",
              "    </tr>\n",
              "    <tr>\n",
              "      <th>4</th>\n",
              "      <td>7</td>\n",
              "      <td>NaN</td>\n",
              "      <td>NaN</td>\n",
              "      <td>Just got sent this photo from Ruby #Alaska as ...</td>\n",
              "      <td>1</td>\n",
              "    </tr>\n",
              "  </tbody>\n",
              "</table>\n",
              "</div>"
            ],
            "text/plain": [
              "   id keyword  ...                                               text target\n",
              "0   1     NaN  ...  Our Deeds are the Reason of this #earthquake M...      1\n",
              "1   4     NaN  ...             Forest fire near La Ronge Sask. Canada      1\n",
              "2   5     NaN  ...  All residents asked to 'shelter in place' are ...      1\n",
              "3   6     NaN  ...  13,000 people receive #wildfires evacuation or...      1\n",
              "4   7     NaN  ...  Just got sent this photo from Ruby #Alaska as ...      1\n",
              "\n",
              "[5 rows x 5 columns]"
            ]
          },
          "metadata": {
            "tags": []
          },
          "execution_count": 64
        }
      ]
    },
    {
      "cell_type": "code",
      "metadata": {
        "colab": {
          "base_uri": "https://localhost:8080/"
        },
        "id": "5ZYL2wPeeGLj",
        "outputId": "ab499ab6-1b47-44ae-c0ab-5df691aede94"
      },
      "source": [
        "df['target'].value_counts()"
      ],
      "execution_count": 65,
      "outputs": [
        {
          "output_type": "execute_result",
          "data": {
            "text/plain": [
              "0    4342\n",
              "1    3271\n",
              "Name: target, dtype: int64"
            ]
          },
          "metadata": {
            "tags": []
          },
          "execution_count": 65
        }
      ]
    },
    {
      "cell_type": "code",
      "metadata": {
        "colab": {
          "base_uri": "https://localhost:8080/"
        },
        "id": "sDsDh_8ed8KN",
        "outputId": "372adf3e-6bf8-419c-aa86-e63e66d1c37a"
      },
      "source": [
        "df.isnull().sum()"
      ],
      "execution_count": 66,
      "outputs": [
        {
          "output_type": "execute_result",
          "data": {
            "text/plain": [
              "id             0\n",
              "keyword       61\n",
              "location    2533\n",
              "text           0\n",
              "target         0\n",
              "dtype: int64"
            ]
          },
          "metadata": {
            "tags": []
          },
          "execution_count": 66
        }
      ]
    },
    {
      "cell_type": "code",
      "metadata": {
        "colab": {
          "base_uri": "https://localhost:8080/"
        },
        "id": "F7OcT_TH-GbL",
        "outputId": "f96711ae-7d0a-461b-f004-605f3913ad84"
      },
      "source": [
        "len(df.location.unique())"
      ],
      "execution_count": 67,
      "outputs": [
        {
          "output_type": "execute_result",
          "data": {
            "text/plain": [
              "3342"
            ]
          },
          "metadata": {
            "tags": []
          },
          "execution_count": 67
        }
      ]
    },
    {
      "cell_type": "code",
      "metadata": {
        "id": "wMMdBdzOokUK",
        "colab": {
          "base_uri": "https://localhost:8080/",
          "height": 86
        },
        "outputId": "ccc2dadd-e017-48af-c195-571b312a9d7e"
      },
      "source": [
        "'''import pandas as pd\n",
        "from geopy.geocoders import Nominatim\n",
        "from geopy.exc import GeocoderTimedOut\n",
        "\n",
        "\n",
        "df = pd.read_csv('https://raw.githubusercontent.com/chefhaider/Fake-News-Detection-Kaggle/main/train.csv')\n",
        "\n",
        "\n",
        "geolocator = Nominatim(user_agent = \"geoapiExercises\")\n",
        "city_name = []\n",
        "\n",
        "\n",
        "\n",
        "\n",
        "for val in df.location:\n",
        "  if val == 'nan':\n",
        "    city_name+=[' ']\n",
        "    continue\n",
        "\n",
        "  try:\n",
        "    city_name+=[ geolocator.geocode(val)[-2].split(',')[-1] ]\n",
        "  except TypeError:\n",
        "    city_name+=[' ']\n",
        "  except GeocoderTimedOut :\n",
        "    city_name+=[' ']'''"
      ],
      "execution_count": 68,
      "outputs": [
        {
          "output_type": "execute_result",
          "data": {
            "application/vnd.google.colaboratory.intrinsic+json": {
              "type": "string"
            },
            "text/plain": [
              "'import pandas as pd\\nfrom geopy.geocoders import Nominatim\\nfrom geopy.exc import GeocoderTimedOut\\n\\n\\ndf = pd.read_csv(\\'https://raw.githubusercontent.com/chefhaider/Fake-News-Detection-Kaggle/main/train.csv\\')\\n\\n\\ngeolocator = Nominatim(user_agent = \"geoapiExercises\")\\ncity_name = []\\n\\n\\n\\n\\nfor val in df.location:\\n  if val == \\'nan\\':\\n    city_name+=[\\' \\']\\n    continue\\n\\n  try:\\n    city_name+=[ geolocator.geocode(val)[-2].split(\\',\\')[-1] ]\\n  except TypeError:\\n    city_name+=[\\' \\']\\n  except GeocoderTimedOut :\\n    city_name+=[\\' \\']'"
            ]
          },
          "metadata": {
            "tags": []
          },
          "execution_count": 68
        }
      ]
    },
    {
      "cell_type": "code",
      "metadata": {
        "id": "SvMl5rsFBN6-"
      },
      "source": [
        "#fig = plt.figure(figsize=(10,80))\n",
        "#sns.countplot(y=\"keyword\",order=df[df.target == 1]['keyword'].value_counts().index, hue=\"target\",data = df,palette='Paired')"
      ],
      "execution_count": 69,
      "outputs": []
    },
    {
      "cell_type": "code",
      "metadata": {
        "id": "NiYN0sWgiwmN"
      },
      "source": [
        "df.dropna(subset = [\"keyword\"], inplace=True)"
      ],
      "execution_count": 70,
      "outputs": []
    },
    {
      "cell_type": "code",
      "metadata": {
        "id": "3dXuyVge0Hf7",
        "colab": {
          "base_uri": "https://localhost:8080/"
        },
        "outputId": "91847359-bd1b-42e7-8b1e-15f190d65b40"
      },
      "source": [
        "df['text'].head()"
      ],
      "execution_count": 71,
      "outputs": [
        {
          "output_type": "execute_result",
          "data": {
            "text/plain": [
              "31    @bbcmtd Wholesale Markets ablaze http://t.co/l...\n",
              "32    We always try to bring the heavy. #metal #RT h...\n",
              "33    #AFRICANBAZE: Breaking news:Nigeria flag set a...\n",
              "34                   Crying out for more! Set me ablaze\n",
              "35    On plus side LOOK AT THE SKY LAST NIGHT IT WAS...\n",
              "Name: text, dtype: object"
            ]
          },
          "metadata": {
            "tags": []
          },
          "execution_count": 71
        }
      ]
    },
    {
      "cell_type": "code",
      "metadata": {
        "id": "81jcLnIUN0dU"
      },
      "source": [
        "import re\n",
        "import string\n",
        "\n",
        "\n",
        "\n",
        "\n",
        "def clean_text(text):\n",
        "\n",
        "\n",
        "    url = re.compile(r'https?://\\S+|www\\.\\S+')\n",
        "    text = url.sub(r'',text)\n",
        "\n",
        "\n",
        "    html=re.compile(r'<.*?>')\n",
        "    text = html.sub(r'',text)\n",
        "\n",
        "\n",
        "\n",
        "    emoji_pattern = re.compile(\"[\"\n",
        "                           u\"\\U0001F600-\\U0001F64F\"  # emoticons\n",
        "                           u\"\\U0001F300-\\U0001F5FF\"  # symbols & pictographs\n",
        "                           u\"\\U0001F680-\\U0001F6FF\"  # transport & map symbols\n",
        "                           u\"\\U0001F1E0-\\U0001F1FF\"  # flags (iOS)\n",
        "                           u\"\\U00002702-\\U000027B0\"\n",
        "                           u\"\\U000024C2-\\U0001F251\"\n",
        "                           \"]+\", flags=re.UNICODE)\n",
        "    text = emoji_pattern.sub(r'', text)\n",
        "\n",
        "\n",
        "    table=str.maketrans('','',string.punctuation)\n",
        "    return text.translate(table)\n",
        "\n",
        "\n",
        "\n",
        "df['text'] = df['text'].apply(lambda x: clean_text(x))\n"
      ],
      "execution_count": 72,
      "outputs": []
    },
    {
      "cell_type": "code",
      "metadata": {
        "id": "65hYAFxu1Isf"
      },
      "source": [
        "#df.loc[df['keyword'].notnull(), 'text'] = df['keyword'] + ' ' + df['text']\n",
        "#test.loc[test['keyword'].notnull(), 'text'] = test['keyword'] + ' ' + test['text']\n"
      ],
      "execution_count": 73,
      "outputs": []
    },
    {
      "cell_type": "code",
      "metadata": {
        "id": "MGJWNoNQXNx0",
        "colab": {
          "base_uri": "https://localhost:8080/"
        },
        "outputId": "a097320d-2c6c-4ee1-ec1a-13a6af287f9a"
      },
      "source": [
        "from sklearn.feature_extraction.text import TfidfVectorizer\n",
        "\n",
        "\n",
        "tf_idf_vect = TfidfVectorizer(ngram_range=(1,3)) # one,two and three gram vectorization\n",
        "tf_idf_mat = tf_idf_vect.fit_transform(df['text'].values) # fit_transform vectorizer to dtrain['text']\n",
        "\n",
        "type(tf_idf_mat)\n",
        "print(tf_idf_mat.get_shape())"
      ],
      "execution_count": 74,
      "outputs": [
        {
          "output_type": "stream",
          "text": [
            "(7552, 148500)\n"
          ],
          "name": "stdout"
        }
      ]
    },
    {
      "cell_type": "code",
      "metadata": {
        "id": "6FaxwtY-BsPQ",
        "colab": {
          "base_uri": "https://localhost:8080/"
        },
        "outputId": "72a790bf-35e1-4ac6-c677-27b8431c7d41"
      },
      "source": [
        "type(tf_idf_mat)"
      ],
      "execution_count": 75,
      "outputs": [
        {
          "output_type": "execute_result",
          "data": {
            "text/plain": [
              "scipy.sparse.csr.csr_matrix"
            ]
          },
          "metadata": {
            "tags": []
          },
          "execution_count": 75
        }
      ]
    },
    {
      "cell_type": "code",
      "metadata": {
        "id": "abQcrvxVYCLR",
        "colab": {
          "base_uri": "https://localhost:8080/"
        },
        "outputId": "330c907a-b3f5-4aea-b199-f736fd1ccd02"
      },
      "source": [
        "from sklearn.metrics import confusion_matrix\n",
        "from sklearn import metrics\n",
        "from sklearn.naive_bayes import MultinomialNB\n",
        "from sklearn.model_selection import train_test_split\n",
        "\n",
        "from sklearn.metrics import classification_report\n",
        "\n",
        "from sklearn.model_selection import GridSearchCV\n",
        "\n",
        "\n",
        "\n",
        "\n",
        "x1, x_test1, y1, y_test1 = train_test_split(tf_idf_mat,df['target'],train_size=0.8, random_state = 0)\n",
        "\n",
        "m_model = MultinomialNB(alpha=1).fit(x1, y1)\n",
        "\n",
        "alpha_val = {'alpha',np.arange(0,1)}\n",
        "\n",
        "m_model = GridSearchCV(knn, param_grid, cv=5)\n",
        "#m_model.score(x_test1,y_test1)\n",
        "pred = m_model.predict(x_test1)\n",
        "print(classification_report(y_test1, pred))"
      ],
      "execution_count": 76,
      "outputs": [
        {
          "output_type": "stream",
          "text": [
            "              precision    recall  f1-score   support\n",
            "\n",
            "           0       0.73      0.96      0.83       858\n",
            "           1       0.91      0.54      0.68       653\n",
            "\n",
            "    accuracy                           0.78      1511\n",
            "   macro avg       0.82      0.75      0.75      1511\n",
            "weighted avg       0.81      0.78      0.76      1511\n",
            "\n"
          ],
          "name": "stdout"
        }
      ]
    },
    {
      "cell_type": "code",
      "metadata": {
        "colab": {
          "base_uri": "https://localhost:8080/"
        },
        "id": "dgWslkAMFcju",
        "outputId": "9a7217b4-dcc8-4f81-a26b-5ee4deb6073f"
      },
      "source": [
        "df.dropna(subset = [\"keyword\"], inplace=True)\n",
        "df.reset_index(drop=True, inplace=True)\n",
        "\n",
        "\n",
        "from sklearn.feature_extraction.text import CountVectorizer\n",
        "\n",
        "\n",
        "count_vect = CountVectorizer() # one,two and three gram vectorization\n",
        "count_mat = tf_idf_vect.fit_transform(df['keyword'].values) # fit_transform vectorizer to dtrain['text']\n",
        "\n",
        "\n",
        "\n",
        "\n",
        "from sklearn.naive_bayes import BernoulliNB\n",
        "from sklearn.model_selection import train_test_split\n",
        "\n",
        "from sklearn.metrics import classification_report\n",
        "\n",
        "\n",
        "\n",
        "\n",
        "\n",
        "x2, x_test2, y2, y_test2 = train_test_split(count_mat,df['target'],train_size=0.8, random_state = 0)\n",
        "\n",
        "b_model = BernoulliNB(alpha=1).fit(x2, y2)\n",
        "#b_model.score(x_test2,y_test2)\n",
        "pred = b_model.predict(x_test2)\n",
        "print(classification_report(y_test2, pred))"
      ],
      "execution_count": 77,
      "outputs": [
        {
          "output_type": "stream",
          "text": [
            "              precision    recall  f1-score   support\n",
            "\n",
            "           0       0.72      0.85      0.78       858\n",
            "           1       0.73      0.56      0.64       653\n",
            "\n",
            "    accuracy                           0.72      1511\n",
            "   macro avg       0.73      0.70      0.71      1511\n",
            "weighted avg       0.72      0.72      0.72      1511\n",
            "\n"
          ],
          "name": "stdout"
        }
      ]
    },
    {
      "cell_type": "code",
      "metadata": {
        "id": "3Q7NjHHCHEBA"
      },
      "source": [
        "prob1 = [ val[1] for val in m_model.predict_proba(x_test1) ]\n",
        "prob2 = [ val[1] for val in  b_model.predict_proba(x_test2) ]"
      ],
      "execution_count": 78,
      "outputs": []
    },
    {
      "cell_type": "code",
      "metadata": {
        "colab": {
          "base_uri": "https://localhost:8080/",
          "height": 296
        },
        "id": "ijjH7sdRNuEi",
        "outputId": "993ed029-712a-4304-e958-8683a42b5c6d"
      },
      "source": [
        "prob_df = pd.DataFrame()\n",
        "prob_df['text'] = prob1\n",
        "prob_df['keyword'] = prob2\n",
        "\n",
        "sns.scatterplot(data=prob_df, x=\"text\", y=\"keyword\")"
      ],
      "execution_count": 79,
      "outputs": [
        {
          "output_type": "execute_result",
          "data": {
            "text/plain": [
              "<matplotlib.axes._subplots.AxesSubplot at 0x7f729597b510>"
            ]
          },
          "metadata": {
            "tags": []
          },
          "execution_count": 79
        },
        {
          "output_type": "display_data",
          "data": {
            "image/png": "[encoded data removed]",
            "text/plain": [
              "<Figure size 432x288 with 1 Axes>"
            ]
          },
          "metadata": {
            "tags": [],
            "needs_background": "light"
          }
        }
      ]
    },
    {
      "cell_type": "code",
      "metadata": {
        "id": "_1B5uQPHP2HU",
        "colab": {
          "base_uri": "https://localhost:8080/"
        },
        "outputId": "cebe4a3c-8716-4f59-d326-99b57572505a"
      },
      "source": [
        "from sklearn.metrics import classification_report\n",
        "\n",
        "prediction = []\n",
        "\n",
        "for val1,val2 in zip(prob1,prob2):\n",
        "\n",
        "\n",
        "  if val1<.5 and val2<.6:\n",
        "    prediction.append(0)\n",
        "\n",
        "\n",
        "  elif val1<.4 and val2<.8:\n",
        "    prediction.append(0)\n",
        "\n",
        "\n",
        "  else:\n",
        "    prediction.append(1)\n",
        "\n",
        "\n",
        "print(classification_report(y_test1, prediction))"
      ],
      "execution_count": 80,
      "outputs": [
        {
          "output_type": "stream",
          "text": [
            "              precision    recall  f1-score   support\n",
            "\n",
            "           0       0.76      0.91      0.83       858\n",
            "           1       0.85      0.62      0.72       653\n",
            "\n",
            "    accuracy                           0.79      1511\n",
            "   macro avg       0.80      0.77      0.77      1511\n",
            "weighted avg       0.80      0.79      0.78      1511\n",
            "\n"
          ],
          "name": "stdout"
        }
      ]
    },
    {
      "cell_type": "code",
      "metadata": {
        "colab": {
          "base_uri": "https://localhost:8080/"
        },
        "id": "AkKI1gIaBFHr",
        "outputId": "b06f4fad-daf8-4c18-f36a-fbc6cfe2094a"
      },
      "source": [
        "\n",
        "\n",
        "\n",
        "from sklearn.model_selection import train_test_split\n",
        "import numpy as np\n",
        "\n",
        "\n",
        "from keras import Sequential\n",
        "from keras.layers import Dense\n",
        "\n",
        "\n",
        "target = np.array(y_test1)\n",
        "\n",
        "\n",
        "X_train,X_test,y_train,y_test = train_test_split(prob_df[['keyword','text']],target, test_size=0.3, random_state=42, stratify = target)\n",
        "\n",
        "\n",
        "\n",
        "\n",
        "classifier = Sequential()\n",
        "#First Hidden Layer\n",
        "#classifier.add(Dense(4, activation='relu', kernel_initializer='random_normal', input_dim=2))\n",
        "#Second  Hidden Layer\n",
        "classifier.add(Dense(4, activation='relu', kernel_initializer='random_normal'))\n",
        "#Output Layer\n",
        "classifier.add(Dense(1, activation='sigmoid', kernel_initializer='random_normal'))\n",
        "\n",
        "\n",
        "#Compiling the neural network\n",
        "classifier.compile(optimizer ='adam',loss='binary_crossentropy', metrics =['accuracy'])\n",
        "\n",
        "#Fitting the data to the training dataset\n",
        "classifier.fit(X_train,y_train, batch_size=10, epochs=100)\n",
        "\n",
        "\n",
        "eval_model=classifier.evaluate(X_train, y_train)\n",
        "\n",
        "predicts = classifier.predict(X_test)\n",
        "predicts =(predicts>0.5)\n",
        "print(classification_report(y_test, predicts))"
      ],
      "execution_count": 81,
      "outputs": [
        {
          "output_type": "stream",
          "text": [
            "Epoch 1/100\n",
            "106/106 [==============================] - 8s 1ms/step - loss: 0.6922 - accuracy: 0.5717\n",
            "Epoch 2/100\n",
            "106/106 [==============================] - 0s 1ms/step - loss: 0.6872 - accuracy: 0.5810\n",
            "Epoch 3/100\n",
            "106/106 [==============================] - 0s 1ms/step - loss: 0.6748 - accuracy: 0.7100\n",
            "Epoch 4/100\n",
            "106/106 [==============================] - 0s 1ms/step - loss: 0.6586 - accuracy: 0.7510\n",
            "Epoch 5/100\n",
            "106/106 [==============================] - 0s 1ms/step - loss: 0.6435 - accuracy: 0.7510\n",
            "Epoch 6/100\n",
            "106/106 [==============================] - 0s 1ms/step - loss: 0.6188 - accuracy: 0.7583\n",
            "Epoch 7/100\n",
            "106/106 [==============================] - 0s 1ms/step - loss: 0.5989 - accuracy: 0.7583\n",
            "Epoch 8/100\n",
            "106/106 [==============================] - 0s 1ms/step - loss: 0.5871 - accuracy: 0.7529\n",
            "Epoch 9/100\n",
            "106/106 [==============================] - 0s 1ms/step - loss: 0.5640 - accuracy: 0.7720\n",
            "Epoch 10/100\n",
            "106/106 [==============================] - 0s 1ms/step - loss: 0.5673 - accuracy: 0.7338\n",
            "Epoch 11/100\n",
            "106/106 [==============================] - 0s 1ms/step - loss: 0.5391 - accuracy: 0.7544\n",
            "Epoch 12/100\n",
            "106/106 [==============================] - 0s 1ms/step - loss: 0.5162 - accuracy: 0.7786\n",
            "Epoch 13/100\n",
            "106/106 [==============================] - 0s 1ms/step - loss: 0.5248 - accuracy: 0.7558\n",
            "Epoch 14/100\n",
            "106/106 [==============================] - 0s 1ms/step - loss: 0.5207 - accuracy: 0.7573\n",
            "Epoch 15/100\n",
            "106/106 [==============================] - 0s 1ms/step - loss: 0.4901 - accuracy: 0.7868\n",
            "Epoch 16/100\n",
            "106/106 [==============================] - 0s 1ms/step - loss: 0.5263 - accuracy: 0.7472\n",
            "Epoch 17/100\n",
            "106/106 [==============================] - 0s 1ms/step - loss: 0.4893 - accuracy: 0.7825\n",
            "Epoch 18/100\n",
            "106/106 [==============================] - 0s 1ms/step - loss: 0.4981 - accuracy: 0.7660\n",
            "Epoch 19/100\n",
            "106/106 [==============================] - 0s 1ms/step - loss: 0.5030 - accuracy: 0.7454\n",
            "Epoch 20/100\n",
            "106/106 [==============================] - 0s 1ms/step - loss: 0.4810 - accuracy: 0.7751\n",
            "Epoch 21/100\n",
            "106/106 [==============================] - 0s 1ms/step - loss: 0.5041 - accuracy: 0.7564\n",
            "Epoch 22/100\n",
            "106/106 [==============================] - 0s 1ms/step - loss: 0.4838 - accuracy: 0.7738\n",
            "Epoch 23/100\n",
            "106/106 [==============================] - 0s 1ms/step - loss: 0.4969 - accuracy: 0.7639\n",
            "Epoch 24/100\n",
            "106/106 [==============================] - 0s 1ms/step - loss: 0.4816 - accuracy: 0.7737\n",
            "Epoch 25/100\n",
            "106/106 [==============================] - 0s 1ms/step - loss: 0.4747 - accuracy: 0.7776\n",
            "Epoch 26/100\n",
            "106/106 [==============================] - 0s 1ms/step - loss: 0.4765 - accuracy: 0.7734\n",
            "Epoch 27/100\n",
            "106/106 [==============================] - 0s 1ms/step - loss: 0.4929 - accuracy: 0.7635\n",
            "Epoch 28/100\n",
            "106/106 [==============================] - 0s 1ms/step - loss: 0.4699 - accuracy: 0.7877\n",
            "Epoch 29/100\n",
            "106/106 [==============================] - 0s 1ms/step - loss: 0.4822 - accuracy: 0.7808\n",
            "Epoch 30/100\n",
            "106/106 [==============================] - 0s 1ms/step - loss: 0.4789 - accuracy: 0.7747\n",
            "Epoch 31/100\n",
            "106/106 [==============================] - 0s 1ms/step - loss: 0.4724 - accuracy: 0.7792\n",
            "Epoch 32/100\n",
            "106/106 [==============================] - 0s 1ms/step - loss: 0.4753 - accuracy: 0.7768\n",
            "Epoch 33/100\n",
            "106/106 [==============================] - 0s 1ms/step - loss: 0.4717 - accuracy: 0.7838\n",
            "Epoch 34/100\n",
            "106/106 [==============================] - 0s 1ms/step - loss: 0.5028 - accuracy: 0.7552\n",
            "Epoch 35/100\n",
            "106/106 [==============================] - 0s 1ms/step - loss: 0.4890 - accuracy: 0.7686\n",
            "Epoch 36/100\n",
            "106/106 [==============================] - 0s 1ms/step - loss: 0.4687 - accuracy: 0.7864\n",
            "Epoch 37/100\n",
            "106/106 [==============================] - 0s 1ms/step - loss: 0.4514 - accuracy: 0.7973\n",
            "Epoch 38/100\n",
            "106/106 [==============================] - 0s 1ms/step - loss: 0.4733 - accuracy: 0.7703\n",
            "Epoch 39/100\n",
            "106/106 [==============================] - 0s 1ms/step - loss: 0.4604 - accuracy: 0.7930\n",
            "Epoch 40/100\n",
            "106/106 [==============================] - 0s 1ms/step - loss: 0.4722 - accuracy: 0.7803\n",
            "Epoch 41/100\n",
            "106/106 [==============================] - 0s 1ms/step - loss: 0.4473 - accuracy: 0.8084\n",
            "Epoch 42/100\n",
            "106/106 [==============================] - 0s 1ms/step - loss: 0.4750 - accuracy: 0.7787\n",
            "Epoch 43/100\n",
            "106/106 [==============================] - 0s 1ms/step - loss: 0.4702 - accuracy: 0.7931\n",
            "Epoch 44/100\n",
            "106/106 [==============================] - 0s 1ms/step - loss: 0.4586 - accuracy: 0.7956\n",
            "Epoch 45/100\n",
            "106/106 [==============================] - 0s 1ms/step - loss: 0.4788 - accuracy: 0.7784\n",
            "Epoch 46/100\n",
            "106/106 [==============================] - 0s 1ms/step - loss: 0.4736 - accuracy: 0.7754\n",
            "Epoch 47/100\n",
            "106/106 [==============================] - 0s 1ms/step - loss: 0.4779 - accuracy: 0.7845\n",
            "Epoch 48/100\n",
            "106/106 [==============================] - 0s 1ms/step - loss: 0.4460 - accuracy: 0.7971\n",
            "Epoch 49/100\n",
            "106/106 [==============================] - 0s 1ms/step - loss: 0.4666 - accuracy: 0.7874\n",
            "Epoch 50/100\n",
            "106/106 [==============================] - 0s 1ms/step - loss: 0.4922 - accuracy: 0.7734\n",
            "Epoch 51/100\n",
            "106/106 [==============================] - 0s 1ms/step - loss: 0.4523 - accuracy: 0.7932\n",
            "Epoch 52/100\n",
            "106/106 [==============================] - 0s 1ms/step - loss: 0.4847 - accuracy: 0.7896\n",
            "Epoch 53/100\n",
            "106/106 [==============================] - 0s 1ms/step - loss: 0.4704 - accuracy: 0.7890\n",
            "Epoch 54/100\n",
            "106/106 [==============================] - 0s 1ms/step - loss: 0.4647 - accuracy: 0.7807\n",
            "Epoch 55/100\n",
            "106/106 [==============================] - 0s 1ms/step - loss: 0.4546 - accuracy: 0.8081\n",
            "Epoch 56/100\n",
            "106/106 [==============================] - 0s 1ms/step - loss: 0.4591 - accuracy: 0.8003\n",
            "Epoch 57/100\n",
            "106/106 [==============================] - 0s 1ms/step - loss: 0.4830 - accuracy: 0.7888\n",
            "Epoch 58/100\n",
            "106/106 [==============================] - 0s 1ms/step - loss: 0.4637 - accuracy: 0.7981\n",
            "Epoch 59/100\n",
            "106/106 [==============================] - 0s 1ms/step - loss: 0.4709 - accuracy: 0.7837\n",
            "Epoch 60/100\n",
            "106/106 [==============================] - 0s 1ms/step - loss: 0.4507 - accuracy: 0.7956\n",
            "Epoch 61/100\n",
            "106/106 [==============================] - 0s 1ms/step - loss: 0.4741 - accuracy: 0.7754\n",
            "Epoch 62/100\n",
            "106/106 [==============================] - 0s 1ms/step - loss: 0.4597 - accuracy: 0.7978\n",
            "Epoch 63/100\n",
            "106/106 [==============================] - 0s 1ms/step - loss: 0.4776 - accuracy: 0.7823\n",
            "Epoch 64/100\n",
            "106/106 [==============================] - 0s 1ms/step - loss: 0.4321 - accuracy: 0.8158\n",
            "Epoch 65/100\n",
            "106/106 [==============================] - 0s 1ms/step - loss: 0.4639 - accuracy: 0.7977\n",
            "Epoch 66/100\n",
            "106/106 [==============================] - 0s 1ms/step - loss: 0.4682 - accuracy: 0.7887\n",
            "Epoch 67/100\n",
            "106/106 [==============================] - 0s 1ms/step - loss: 0.4697 - accuracy: 0.7933\n",
            "Epoch 68/100\n",
            "106/106 [==============================] - 0s 1ms/step - loss: 0.4628 - accuracy: 0.7989\n",
            "Epoch 69/100\n",
            "106/106 [==============================] - 0s 1ms/step - loss: 0.4732 - accuracy: 0.7886\n",
            "Epoch 70/100\n",
            "106/106 [==============================] - 0s 1ms/step - loss: 0.4560 - accuracy: 0.7933\n",
            "Epoch 71/100\n",
            "106/106 [==============================] - 0s 1ms/step - loss: 0.4735 - accuracy: 0.7917\n",
            "Epoch 72/100\n",
            "106/106 [==============================] - 0s 1ms/step - loss: 0.4665 - accuracy: 0.8008\n",
            "Epoch 73/100\n",
            "106/106 [==============================] - 0s 1ms/step - loss: 0.4469 - accuracy: 0.8036\n",
            "Epoch 74/100\n",
            "106/106 [==============================] - 0s 1ms/step - loss: 0.4722 - accuracy: 0.7886\n",
            "Epoch 75/100\n",
            "106/106 [==============================] - 0s 1ms/step - loss: 0.4638 - accuracy: 0.7856\n",
            "Epoch 76/100\n",
            "106/106 [==============================] - 0s 1ms/step - loss: 0.4459 - accuracy: 0.7974\n",
            "Epoch 77/100\n",
            "106/106 [==============================] - 0s 1ms/step - loss: 0.4586 - accuracy: 0.7973\n",
            "Epoch 78/100\n",
            "106/106 [==============================] - 0s 1ms/step - loss: 0.4759 - accuracy: 0.7958\n",
            "Epoch 79/100\n",
            "106/106 [==============================] - 0s 1ms/step - loss: 0.4591 - accuracy: 0.7986\n",
            "Epoch 80/100\n",
            "106/106 [==============================] - 0s 1ms/step - loss: 0.4805 - accuracy: 0.7875\n",
            "Epoch 81/100\n",
            "106/106 [==============================] - 0s 1ms/step - loss: 0.4912 - accuracy: 0.7707\n",
            "Epoch 82/100\n",
            "106/106 [==============================] - 0s 1ms/step - loss: 0.4615 - accuracy: 0.7985\n",
            "Epoch 83/100\n",
            "106/106 [==============================] - 0s 1ms/step - loss: 0.4685 - accuracy: 0.7938\n",
            "Epoch 84/100\n",
            "106/106 [==============================] - 0s 1ms/step - loss: 0.4616 - accuracy: 0.7923\n",
            "Epoch 85/100\n",
            "106/106 [==============================] - 0s 1ms/step - loss: 0.4473 - accuracy: 0.8058\n",
            "Epoch 86/100\n",
            "106/106 [==============================] - 0s 1ms/step - loss: 0.4347 - accuracy: 0.8077\n",
            "Epoch 87/100\n",
            "106/106 [==============================] - 0s 1ms/step - loss: 0.4599 - accuracy: 0.7881\n",
            "Epoch 88/100\n",
            "106/106 [==============================] - 0s 1ms/step - loss: 0.4434 - accuracy: 0.8028\n",
            "Epoch 89/100\n",
            "106/106 [==============================] - 0s 1ms/step - loss: 0.4726 - accuracy: 0.7935\n",
            "Epoch 90/100\n",
            "106/106 [==============================] - 0s 1ms/step - loss: 0.4673 - accuracy: 0.7883\n",
            "Epoch 91/100\n",
            "106/106 [==============================] - 0s 1ms/step - loss: 0.4594 - accuracy: 0.7945\n",
            "Epoch 92/100\n",
            "106/106 [==============================] - 0s 1ms/step - loss: 0.4816 - accuracy: 0.7800\n",
            "Epoch 93/100\n",
            "106/106 [==============================] - 0s 1ms/step - loss: 0.4566 - accuracy: 0.8056\n",
            "Epoch 94/100\n",
            "106/106 [==============================] - 0s 1ms/step - loss: 0.4746 - accuracy: 0.7911\n",
            "Epoch 95/100\n",
            "106/106 [==============================] - 0s 1ms/step - loss: 0.4507 - accuracy: 0.7987\n",
            "Epoch 96/100\n",
            "106/106 [==============================] - 0s 1ms/step - loss: 0.4969 - accuracy: 0.7752\n",
            "Epoch 97/100\n",
            "106/106 [==============================] - 0s 1ms/step - loss: 0.4864 - accuracy: 0.7721\n",
            "Epoch 98/100\n",
            "106/106 [==============================] - 0s 1ms/step - loss: 0.4880 - accuracy: 0.7795\n",
            "Epoch 99/100\n",
            "106/106 [==============================] - 0s 1ms/step - loss: 0.4508 - accuracy: 0.7985\n",
            "Epoch 100/100\n",
            "106/106 [==============================] - 0s 1ms/step - loss: 0.4619 - accuracy: 0.7869\n",
            "34/34 [==============================] - 0s 1ms/step - loss: 0.4629 - accuracy: 0.7938\n",
            "              precision    recall  f1-score   support\n",
            "\n",
            "           0       0.76      0.91      0.83       258\n",
            "           1       0.85      0.63      0.72       196\n",
            "\n",
            "    accuracy                           0.79       454\n",
            "   macro avg       0.81      0.77      0.78       454\n",
            "weighted avg       0.80      0.79      0.78       454\n",
            "\n"
          ],
          "name": "stdout"
        }
      ]
    },
    {
      "cell_type": "code",
      "metadata": {
        "id": "NmyZzWrsGjy3",
        "colab": {
          "base_uri": "https://localhost:8080/",
          "height": 86
        },
        "outputId": "5121c4e7-4a6e-4455-d0f4-2af4dcd8e66d"
      },
      "source": [
        "'''\n",
        "\n",
        "from sklearn.neighbors import KNeighborsClassifier\n",
        "from sklearn.model_selection import train_test_split\n",
        "from sklearn.model_selection import GridSearchCV\n",
        "import numpy as np\n",
        "\n",
        "\n",
        "knn = KNeighborsClassifier()\n",
        "\n",
        "\n",
        "target = prob_df['target']\n",
        "\n",
        "X_train,X_test,y_train,y_test = train_test_split(prob_df[['keyword','text']], target, test_size=0.3, random_state=42, stratify = target)\n",
        "param_grid = {'n_neighbors' : np.arange(1,50)}\n",
        "knn_cv = GridSearchCV(knn, param_grid, cv=5)\n",
        "knn_cv.fit(X_train,y_train)\n",
        "y_pred = knn_cv.predict(X_test)\n",
        "\n",
        "knn_cv.score(X_test,y_test)\n",
        "'''"
      ],
      "execution_count": 82,
      "outputs": [
        {
          "output_type": "execute_result",
          "data": {
            "application/vnd.google.colaboratory.intrinsic+json": {
              "type": "string"
            },
            "text/plain": [
              "\"\\n\\nfrom sklearn.neighbors import KNeighborsClassifier\\nfrom sklearn.model_selection import train_test_split\\nfrom sklearn.model_selection import GridSearchCV\\nimport numpy as np\\n\\n\\nknn = KNeighborsClassifier()\\n\\n\\ntarget = prob_df['target']\\n\\nX_train,X_test,y_train,y_test = train_test_split(prob_df[['keyword','text']], target, test_size=0.3, random_state=42, stratify = target)\\nparam_grid = {'n_neighbors' : np.arange(1,50)}\\nknn_cv = GridSearchCV(knn, param_grid, cv=5)\\nknn_cv.fit(X_train,y_train)\\ny_pred = knn_cv.predict(X_test)\\n\\nknn_cv.score(X_test,y_test)\\n\""
            ]
          },
          "metadata": {
            "tags": []
          },
          "execution_count": 82
        }
      ]
    },
    {
      "cell_type": "code",
      "metadata": {
        "id": "a0DJmI5NTOV8",
        "colab": {
          "base_uri": "https://localhost:8080/",
          "height": 69
        },
        "outputId": "7f4f7ada-ca90-4a51-a50d-aff3de273097"
      },
      "source": [
        "'''test = pd.read_csv('https://raw.githubusercontent.com/chefhaider/Fake-News-Detection-Kaggle/main/test.csv')\n",
        "\n",
        "\n",
        "\n",
        "test['text'] = test['text'].apply(lambda x: clean_text(x))\n",
        "tf_idf_mat_test = tf_idf_vect.transform(test['text'].values) # fit_transform vectorizer to dtest['text']\n",
        "predictions = clf.predict(tf_idf_mat_test)\n",
        "\n",
        "output = pd.DataFrame({'id': test.id, 'target': predictions})\n",
        "output.to_csv('my_submission.csv', index=False)'''"
      ],
      "execution_count": 83,
      "outputs": [
        {
          "output_type": "execute_result",
          "data": {
            "application/vnd.google.colaboratory.intrinsic+json": {
              "type": "string"
            },
            "text/plain": [
              "\"test = pd.read_csv('https://raw.githubusercontent.com/chefhaider/Fake-News-Detection-Kaggle/main/test.csv')\\n\\n\\n\\ntest['text'] = test['text'].apply(lambda x: clean_text(x))\\ntf_idf_mat_test = tf_idf_vect.transform(test['text'].values) # fit_transform vectorizer to dtest['text']\\npredictions = clf.predict(tf_idf_mat_test)\\n\\noutput = pd.DataFrame({'id': test.id, 'target': predictions})\\noutput.to_csv('my_submission.csv', index=False)\""
            ]
          },
          "metadata": {
            "tags": []
          },
          "execution_count": 83
        }
      ]
    },
    {
      "cell_type": "code",
      "metadata": {
        "colab": {
          "base_uri": "https://localhost:8080/",
          "height": 374
        },
        "id": "QNLcrmxBHylT",
        "outputId": "2f7a8ddf-e656-428c-911a-69a1c31ead57"
      },
      "source": [
        "X_train,X_test,y_train,y_test = train_test_split(df,df['target'], test_size=0.3, random_state=42, stratify = target)\n",
        "\n",
        "\n",
        "pipeline = Pipeline([\n",
        "    ('tfidf', TfidfVectorizer(stop_words=stop_words)),\n",
        "    ('clf', OneVsRestClassifier(MultinomialNB(\n",
        "        fit_prior=True, class_prior=None))),\n",
        "])\n",
        "parameters = {\n",
        "    'tfidf__max_df': (0.25, 0.5, 0.75),\n",
        "    'tfidf__ngram_range': [(1, 1), (1, 2), (1, 3)],\n",
        "    'clf__estimator__alpha': (1e-2, 1e-3)\n",
        "}\n",
        "\n",
        "grid_search_tune = GridSearchCV(pipeline, parameters, cv=2, n_jobs=2, verbose=3)\n",
        "grid_search_tune.fit(X_train, y_train)\n",
        "\n",
        "print(\"Best parameters set:\")\n",
        "print( grid_search_tune.best_estimator_.steps )"
      ],
      "execution_count": 86,
      "outputs": [
        {
          "output_type": "error",
          "ename": "ValueError",
          "evalue": "ignored",
          "traceback": [
            "\u001b[0;31m---------------------------------------------------------------------------\u001b[0m",
            "\u001b[0;31mValueError\u001b[0m                                Traceback (most recent call last)",
            "\u001b[0;32m<ipython-input-86-14aaf6cb4846>\u001b[0m in \u001b[0;36m<module>\u001b[0;34m()\u001b[0m\n\u001b[0;32m----> 1\u001b[0;31m \u001b[0mX_train\u001b[0m\u001b[0;34m,\u001b[0m\u001b[0mX_test\u001b[0m\u001b[0;34m,\u001b[0m\u001b[0my_train\u001b[0m\u001b[0;34m,\u001b[0m\u001b[0my_test\u001b[0m \u001b[0;34m=\u001b[0m \u001b[0mtrain_test_split\u001b[0m\u001b[0;34m(\u001b[0m\u001b[0mdf\u001b[0m\u001b[0;34m,\u001b[0m\u001b[0mdf\u001b[0m\u001b[0;34m[\u001b[0m\u001b[0;34m'target'\u001b[0m\u001b[0;34m]\u001b[0m\u001b[0;34m,\u001b[0m \u001b[0mtest_size\u001b[0m\u001b[0;34m=\u001b[0m\u001b[0;36m0.3\u001b[0m\u001b[0;34m,\u001b[0m \u001b[0mrandom_state\u001b[0m\u001b[0;34m=\u001b[0m\u001b[0;36m42\u001b[0m\u001b[0;34m,\u001b[0m \u001b[0mstratify\u001b[0m \u001b[0;34m=\u001b[0m \u001b[0mtarget\u001b[0m\u001b[0;34m)\u001b[0m\u001b[0;34m\u001b[0m\u001b[0;34m\u001b[0m\u001b[0m\n\u001b[0m\u001b[1;32m      2\u001b[0m \u001b[0;34m\u001b[0m\u001b[0m\n\u001b[1;32m      3\u001b[0m \u001b[0;34m\u001b[0m\u001b[0m\n\u001b[1;32m      4\u001b[0m pipeline = Pipeline([\n\u001b[1;32m      5\u001b[0m     \u001b[0;34m(\u001b[0m\u001b[0;34m'tfidf'\u001b[0m\u001b[0;34m,\u001b[0m \u001b[0mTfidfVectorizer\u001b[0m\u001b[0;34m(\u001b[0m\u001b[0mstop_words\u001b[0m\u001b[0;34m=\u001b[0m\u001b[0mstop_words\u001b[0m\u001b[0;34m)\u001b[0m\u001b[0;34m)\u001b[0m\u001b[0;34m,\u001b[0m\u001b[0;34m\u001b[0m\u001b[0;34m\u001b[0m\u001b[0m\n",
            "\u001b[0;32m/usr/local/lib/python3.7/dist-packages/sklearn/model_selection/_split.py\u001b[0m in \u001b[0;36mtrain_test_split\u001b[0;34m(*arrays, **options)\u001b[0m\n\u001b[1;32m   2141\u001b[0m                      random_state=random_state)\n\u001b[1;32m   2142\u001b[0m \u001b[0;34m\u001b[0m\u001b[0m\n\u001b[0;32m-> 2143\u001b[0;31m         \u001b[0mtrain\u001b[0m\u001b[0;34m,\u001b[0m \u001b[0mtest\u001b[0m \u001b[0;34m=\u001b[0m \u001b[0mnext\u001b[0m\u001b[0;34m(\u001b[0m\u001b[0mcv\u001b[0m\u001b[0;34m.\u001b[0m\u001b[0msplit\u001b[0m\u001b[0;34m(\u001b[0m\u001b[0mX\u001b[0m\u001b[0;34m=\u001b[0m\u001b[0marrays\u001b[0m\u001b[0;34m[\u001b[0m\u001b[0;36m0\u001b[0m\u001b[0;34m]\u001b[0m\u001b[0;34m,\u001b[0m \u001b[0my\u001b[0m\u001b[0;34m=\u001b[0m\u001b[0mstratify\u001b[0m\u001b[0;34m)\u001b[0m\u001b[0;34m)\u001b[0m\u001b[0;34m\u001b[0m\u001b[0;34m\u001b[0m\u001b[0m\n\u001b[0m\u001b[1;32m   2144\u001b[0m \u001b[0;34m\u001b[0m\u001b[0m\n\u001b[1;32m   2145\u001b[0m     return list(chain.from_iterable((_safe_indexing(a, train),\n",
            "\u001b[0;32m/usr/local/lib/python3.7/dist-packages/sklearn/model_selection/_split.py\u001b[0m in \u001b[0;36msplit\u001b[0;34m(self, X, y, groups)\u001b[0m\n\u001b[1;32m   1326\u001b[0m         \u001b[0mto\u001b[0m \u001b[0man\u001b[0m \u001b[0minteger\u001b[0m\u001b[0;34m.\u001b[0m\u001b[0;34m\u001b[0m\u001b[0;34m\u001b[0m\u001b[0m\n\u001b[1;32m   1327\u001b[0m         \"\"\"\n\u001b[0;32m-> 1328\u001b[0;31m         \u001b[0mX\u001b[0m\u001b[0;34m,\u001b[0m \u001b[0my\u001b[0m\u001b[0;34m,\u001b[0m \u001b[0mgroups\u001b[0m \u001b[0;34m=\u001b[0m \u001b[0mindexable\u001b[0m\u001b[0;34m(\u001b[0m\u001b[0mX\u001b[0m\u001b[0;34m,\u001b[0m \u001b[0my\u001b[0m\u001b[0;34m,\u001b[0m \u001b[0mgroups\u001b[0m\u001b[0;34m)\u001b[0m\u001b[0;34m\u001b[0m\u001b[0;34m\u001b[0m\u001b[0m\n\u001b[0m\u001b[1;32m   1329\u001b[0m         \u001b[0;32mfor\u001b[0m \u001b[0mtrain\u001b[0m\u001b[0;34m,\u001b[0m \u001b[0mtest\u001b[0m \u001b[0;32min\u001b[0m \u001b[0mself\u001b[0m\u001b[0;34m.\u001b[0m\u001b[0m_iter_indices\u001b[0m\u001b[0;34m(\u001b[0m\u001b[0mX\u001b[0m\u001b[0;34m,\u001b[0m \u001b[0my\u001b[0m\u001b[0;34m,\u001b[0m \u001b[0mgroups\u001b[0m\u001b[0;34m)\u001b[0m\u001b[0;34m:\u001b[0m\u001b[0;34m\u001b[0m\u001b[0;34m\u001b[0m\u001b[0m\n\u001b[1;32m   1330\u001b[0m             \u001b[0;32myield\u001b[0m \u001b[0mtrain\u001b[0m\u001b[0;34m,\u001b[0m \u001b[0mtest\u001b[0m\u001b[0;34m\u001b[0m\u001b[0;34m\u001b[0m\u001b[0m\n",
            "\u001b[0;32m/usr/local/lib/python3.7/dist-packages/sklearn/utils/validation.py\u001b[0m in \u001b[0;36mindexable\u001b[0;34m(*iterables)\u001b[0m\n\u001b[1;32m    246\u001b[0m     \"\"\"\n\u001b[1;32m    247\u001b[0m     \u001b[0mresult\u001b[0m \u001b[0;34m=\u001b[0m \u001b[0;34m[\u001b[0m\u001b[0m_make_indexable\u001b[0m\u001b[0;34m(\u001b[0m\u001b[0mX\u001b[0m\u001b[0;34m)\u001b[0m \u001b[0;32mfor\u001b[0m \u001b[0mX\u001b[0m \u001b[0;32min\u001b[0m \u001b[0miterables\u001b[0m\u001b[0;34m]\u001b[0m\u001b[0;34m\u001b[0m\u001b[0;34m\u001b[0m\u001b[0m\n\u001b[0;32m--> 248\u001b[0;31m     \u001b[0mcheck_consistent_length\u001b[0m\u001b[0;34m(\u001b[0m\u001b[0;34m*\u001b[0m\u001b[0mresult\u001b[0m\u001b[0;34m)\u001b[0m\u001b[0;34m\u001b[0m\u001b[0;34m\u001b[0m\u001b[0m\n\u001b[0m\u001b[1;32m    249\u001b[0m     \u001b[0;32mreturn\u001b[0m \u001b[0mresult\u001b[0m\u001b[0;34m\u001b[0m\u001b[0;34m\u001b[0m\u001b[0m\n\u001b[1;32m    250\u001b[0m \u001b[0;34m\u001b[0m\u001b[0m\n",
            "\u001b[0;32m/usr/local/lib/python3.7/dist-packages/sklearn/utils/validation.py\u001b[0m in \u001b[0;36mcheck_consistent_length\u001b[0;34m(*arrays)\u001b[0m\n\u001b[1;32m    210\u001b[0m     \u001b[0;32mif\u001b[0m \u001b[0mlen\u001b[0m\u001b[0;34m(\u001b[0m\u001b[0muniques\u001b[0m\u001b[0;34m)\u001b[0m \u001b[0;34m>\u001b[0m \u001b[0;36m1\u001b[0m\u001b[0;34m:\u001b[0m\u001b[0;34m\u001b[0m\u001b[0;34m\u001b[0m\u001b[0m\n\u001b[1;32m    211\u001b[0m         raise ValueError(\"Found input variables with inconsistent numbers of\"\n\u001b[0;32m--> 212\u001b[0;31m                          \" samples: %r\" % [int(l) for l in lengths])\n\u001b[0m\u001b[1;32m    213\u001b[0m \u001b[0;34m\u001b[0m\u001b[0m\n\u001b[1;32m    214\u001b[0m \u001b[0;34m\u001b[0m\u001b[0m\n",
            "\u001b[0;31mValueError\u001b[0m: Found input variables with inconsistent numbers of samples: [7552, 1511]"
          ]
        }
      ]
    }
  ]
}